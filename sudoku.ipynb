{
 "cells": [
  {
   "cell_type": "code",
   "execution_count": 1,
   "metadata": {},
   "outputs": [
    {
     "name": "stdout",
     "output_type": "stream",
     "text": [
      "[7, 1, 4, 2, 9, 3, 6, 5, 8]\n",
      "[5, 8, 6, 1, 7, 4, 3, 9, 2]\n",
      "[9, 2, 3, 8, 5, 6, 4, 7, 1]\n",
      "[8, 4, 5, 3, 1, 7, 9, 2, 6]\n",
      "[1, 3, 7, 6, 2, 9, 5, 8, 4]\n",
      "[2, 6, 9, 4, 8, 5, 7, 1, 3]\n",
      "[6, 5, 2, 7, 4, 8, 1, 3, 9]\n",
      "[4, 7, 8, 9, 3, 1, 2, 6, 5]\n",
      "[3, 9, 1, 5, 6, 2, 8, 4, 7]\n"
     ]
    },
    {
     "data": {
      "text/plain": [
       "[1, 7, 8, 6, 5, 9, 3, 4, 2]"
      ]
     },
     "execution_count": 1,
     "metadata": {},
     "output_type": "execute_result"
    }
   ],
   "source": [
    "base  = 3\n",
    "side  = base*base\n",
    "\n",
    "# padrão para uma solução válida de linha de base\n",
    "def pattern(r,c): return (base*(r%base)+r//base+c)%side\n",
    "\n",
    "# randomize linhas, colunas e números (de padrão base válido)\n",
    "from random import sample\n",
    "def shuffle(s): return sample(s,len(s)) \n",
    "rBase = range(base) \n",
    "rows  = [ g*base + r for g in shuffle(rBase) for r in shuffle(rBase) ] \n",
    "cols  = [ g*base + c for g in shuffle(rBase) for c in shuffle(rBase) ]\n",
    "nums  = shuffle(range(1,base*base+1))\n",
    "\n",
    "# produzir placa usando padrão de linha de base aleatório\n",
    "board = [ [nums[pattern(r,c)] for c in cols] for r in rows ]\n",
    "\n",
    "for line in board: print(line)\n",
    "\n",
    "[6, 2, 5, 8, 4, 3, 7, 9, 1]\n",
    "[7, 9, 1, 2, 6, 5, 4, 8, 3]\n",
    "[4, 8, 3, 9, 7, 1, 6, 2, 5]\n",
    "[8, 1, 4, 5, 9, 7, 2, 3, 6]\n",
    "[2, 3, 6, 1, 8, 4, 9, 5, 7] \n",
    "[9, 5, 7, 3, 2, 6, 8, 1, 4]\n",
    "[5, 6, 9, 4, 3, 2, 1, 7, 8]\n",
    "[3, 4, 2, 7, 1, 8, 5, 6, 9]\n",
    "[1, 7, 8, 6, 5, 9, 3, 4, 2]"
   ]
  },
  {
   "cell_type": "code",
   "execution_count": 2,
   "metadata": {},
   "outputs": [
    {
     "name": "stdout",
     "output_type": "stream",
     "text": [
      "[1, 6, 16, 14, 15, 12, 7, 10, 4, 8, 9, 11, 3, 2, 13, 5]\n",
      "[4, 8, 9, 11, 13, 3, 5, 2, 1, 6, 16, 14, 12, 10, 15, 7]\n",
      "[7, 10, 15, 12, 9, 11, 4, 8, 5, 2, 13, 3, 14, 6, 16, 1]\n",
      "[5, 2, 13, 3, 16, 14, 1, 6, 7, 10, 15, 12, 11, 8, 9, 4]\n",
      "[2, 1, 3, 16, 14, 15, 6, 7, 10, 4, 12, 9, 13, 5, 11, 8]\n",
      "[10, 4, 12, 9, 11, 13, 8, 5, 2, 1, 3, 16, 15, 7, 14, 6]\n",
      "[6, 7, 14, 15, 12, 9, 10, 4, 8, 5, 11, 13, 16, 1, 3, 2]\n",
      "[8, 5, 11, 13, 3, 16, 2, 1, 6, 7, 14, 15, 9, 4, 12, 10]\n",
      "[14, 15, 7, 10, 4, 8, 12, 9, 11, 13, 5, 2, 6, 16, 1, 3]\n",
      "[12, 9, 4, 8, 5, 2, 11, 13, 3, 16, 1, 6, 10, 15, 7, 14]\n",
      "[3, 16, 1, 6, 7, 10, 14, 15, 12, 9, 4, 8, 2, 13, 5, 11]\n",
      "[11, 13, 5, 2, 1, 6, 3, 16, 14, 15, 7, 10, 8, 9, 4, 12]\n",
      "[9, 11, 8, 5, 2, 1, 13, 3, 16, 14, 6, 7, 4, 12, 10, 15]\n",
      "[16, 14, 6, 7, 10, 4, 15, 12, 9, 11, 8, 5, 1, 3, 2, 13]\n",
      "[13, 3, 2, 1, 6, 7, 16, 14, 15, 12, 10, 4, 5, 11, 8, 9]\n",
      "[15, 12, 10, 4, 8, 5, 9, 11, 13, 3, 2, 1, 7, 14, 6, 16]\n"
     ]
    },
    {
     "data": {
      "text/plain": [
       "[1, 7, 8, 6, 5, 9, 3, 4, 2]"
      ]
     },
     "execution_count": 2,
     "metadata": {},
     "output_type": "execute_result"
    }
   ],
   "source": [
    "base  = 4\n",
    "side  = base*base\n",
    "\n",
    "# padrão para uma solução válida de linha de base\n",
    "def pattern(r,c): \n",
    "    return (base*(r%base)+r//base+c)%side\n",
    "\n",
    "# randomize linhas, colunas e números (de padrão base válido)\n",
    "from random import sample\n",
    "def shuffle(s): \n",
    "    return sample(s,len(s))  \n",
    "rBase = range(base) \n",
    "rows  = [ g*base + r for g in shuffle(rBase) for r in shuffle(rBase) ] \n",
    "cols  = [ g*base + c for g in shuffle(rBase) for c in shuffle(rBase) ]\n",
    "nums  = shuffle(range(1,base*base+1))\n",
    "\n",
    "# produzir placa usando padrão de linha de base aleatório\n",
    "board = [ [nums[pattern(r,c)] for c in cols] for r in rows ]\n",
    "\n",
    "for line in board: print(line)\n",
    "\n",
    "[6, 2, 5, 8, 4, 3, 7, 9, 1]\n",
    "[7, 9, 1, 2, 6, 5, 4, 8, 3]\n",
    "[4, 8, 3, 9, 7, 1, 6, 2, 5]\n",
    "[8, 1, 4, 5, 9, 7, 2, 3, 6]\n",
    "[2, 3, 6, 1, 8, 4, 9, 5, 7]\n",
    "[9, 5, 7, 3, 2, 6, 8, 1, 4]\n",
    "[5, 6, 9, 4, 3, 2, 1, 7, 8]\n",
    "[3, 4, 2, 7, 1, 8, 5, 6, 9]\n",
    "[1, 7, 8, 6, 5, 9, 3, 4, 2]"
   ]
  },
  {
   "cell_type": "code",
   "execution_count": 5,
   "metadata": {},
   "outputs": [],
   "source": [
    "import numpy as np"
   ]
  },
  {
   "cell_type": "code",
   "execution_count": 7,
   "metadata": {},
   "outputs": [
    {
     "data": {
      "text/plain": [
       "array([[0., 0., 0., 0., 0.],\n",
       "       [0., 0., 0., 0., 0.],\n",
       "       [0., 0., 0., 0., 0.],\n",
       "       [0., 0., 0., 0., 0.],\n",
       "       [0., 0., 0., 0., 0.]])"
      ]
     },
     "execution_count": 7,
     "metadata": {},
     "output_type": "execute_result"
    }
   ],
   "source": [
    "np.zeros(shape=(5, 5))"
   ]
  },
  {
   "cell_type": "code",
   "execution_count": 12,
   "metadata": {},
   "outputs": [
    {
     "data": {
      "text/plain": [
       "array([1, 2, 3, 4, 5, 6, 7, 8, 9])"
      ]
     },
     "execution_count": 12,
     "metadata": {},
     "output_type": "execute_result"
    }
   ],
   "source": [
    "numeros = np.arange(1, 10)\n",
    "numeros"
   ]
  }
 ],
 "metadata": {
  "kernelspec": {
   "display_name": "env",
   "language": "python",
   "name": "python3"
  },
  "language_info": {
   "codemirror_mode": {
    "name": "ipython",
    "version": 3
   },
   "file_extension": ".py",
   "mimetype": "text/x-python",
   "name": "python",
   "nbconvert_exporter": "python",
   "pygments_lexer": "ipython3",
   "version": "3.8.2 (default, Aug 25 2020, 09:23:57) \n[Clang 12.0.0 (clang-1200.0.32.2)]"
  },
  "orig_nbformat": 4,
  "vscode": {
   "interpreter": {
    "hash": "99447a18753c6379deb651ddea9fcda7c5cef859dc96ba4d6ceee5801c0ce682"
   }
  }
 },
 "nbformat": 4,
 "nbformat_minor": 2
}
